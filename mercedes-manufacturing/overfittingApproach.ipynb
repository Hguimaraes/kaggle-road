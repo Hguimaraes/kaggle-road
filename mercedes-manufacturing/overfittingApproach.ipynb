{
 "cells": [
  {
   "cell_type": "code",
   "execution_count": 1,
   "metadata": {
    "collapsed": false
   },
   "outputs": [
    {
     "name": "stderr",
     "output_type": "stream",
     "text": [
      "/home/hguimaraes/.virtualenvs/kaggle/lib/python3.6/site-packages/IPython/html.py:14: ShimWarning: The `IPython.html` package has been deprecated since IPython 4.0. You should import from `notebook` instead. `IPython.html.widgets` has moved to `ipywidgets`.\n",
      "  \"`IPython.html.widgets` has moved to `ipywidgets`.\", ShimWarning)\n",
      "/home/hguimaraes/.virtualenvs/kaggle/lib/python3.6/site-packages/sklearn/cross_validation.py:44: DeprecationWarning: This module was deprecated in version 0.18 in favor of the model_selection module into which all the refactored classes and functions are moved. Also note that the interface of the new CV iterators are different from that of this module. This module will be removed in 0.20.\n",
      "  \"This module will be removed in 0.20.\", DeprecationWarning)\n"
     ]
    }
   ],
   "source": [
    "# Python and data manipulation stuff\n",
    "import operator\n",
    "import numpy as np\n",
    "import pandas as pd\n",
    "import seaborn as sns\n",
    "import matplotlib.pyplot as plt\n",
    "\n",
    "import xgboost as xgb\n",
    "import lightgbm as lgb\n",
    "from sklearn.ensemble import RandomForestRegressor\n",
    "from sklearn.linear_model import TheilSenRegressor\n",
    "from sklearn.linear_model import Ridge\n",
    "from sklearn.svm import SVR\n",
    "from sklearn.linear_model import ElasticNet\n",
    "from sklearn.ensemble import ExtraTreesRegressor\n",
    "\n",
    "from sklearn.model_selection import KFold\n",
    "from sklearn.preprocessing import LabelEncoder\n",
    "from sklearn.manifold import TSNE\n",
    "from sklearn.metrics import r2_score\n",
    "\n",
    "from sklearn.decomposition import PCA, FastICA\n",
    "from sklearn.random_projection import GaussianRandomProjection\n",
    "from sklearn.random_projection import SparseRandomProjection\n",
    "from sklearn.decomposition import TruncatedSVD"
   ]
  },
  {
   "cell_type": "code",
   "execution_count": 2,
   "metadata": {
    "collapsed": true
   },
   "outputs": [],
   "source": [
    "# K-Fold helper\n",
    "def kfold_validate(clf, X, y, k_folds = 5):\n",
    "    acc = []\n",
    "    rtimes = 5\n",
    "    rstate = [420, 123, 456, 678, 666]\n",
    "    for it in range(rtimes):\n",
    "        count = 0\n",
    "        kf = KFold(n_splits=k_folds, shuffle = True, random_state=rstate[it])\n",
    "        for train_idx, test_idx in kf.split(X):\n",
    "            count += 1\n",
    "            # Separe training and test in the Training set for k-Fold\n",
    "            fold_Xtrain, fold_Xtest = X[train_idx], X[test_idx]\n",
    "            fold_ytrain, fold_ytest = y[train_idx], y[test_idx]\n",
    "\n",
    "            # Train\n",
    "            clf.fit(fold_Xtrain, fold_ytrain)\n",
    "            pred = clf.predict(fold_Xtest)\n",
    "            accuracy = r2_score(fold_ytest, pred)\n",
    "            acc.append(accuracy)\n",
    "            print(\"Fold: %s of % s | iter: %s => r2_score = %s\" %(count, k_folds, it, accuracy))\n",
    "    \n",
    "    print(\"\\nR2_score statistics:\")\n",
    "    print(\"Mean = %s%%\" % '{0:.5f}'.format(np.mean(acc)))\n",
    "    print(\"STD = %s%%\" % '{0:.5f}'.format(np.std(acc)))"
   ]
  },
  {
   "cell_type": "code",
   "execution_count": 3,
   "metadata": {
    "collapsed": true
   },
   "outputs": [],
   "source": [
    "# K-Fold helper\n",
    "def kfold_validate_keras(clf, X, y, k_folds = 5):\n",
    "    acc = []\n",
    "    rtimes = 5\n",
    "    rstate = [420, 123, 456, 678, 666]\n",
    "    for it in range(rtimes):\n",
    "        count = 0\n",
    "        kf = KFold(n_splits=k_folds, shuffle = True, random_state=rstate[it])\n",
    "        for train_idx, test_idx in kf.split(X):\n",
    "            count += 1\n",
    "            # Separe training and test in the Training set for k-Fold\n",
    "            fold_Xtrain, fold_Xtest = X[train_idx], X[test_idx]\n",
    "            fold_ytrain, fold_ytest = y[train_idx], y[test_idx]\n",
    "\n",
    "            # Train\n",
    "            clf.fit(fold_Xtrain,fold_ytrain, epochs=250,\n",
    "                    validation_data=(fold_Xtest, fold_ytest))\n",
    "            pred = clf.predict(fold_Xtest)\n",
    "            accuracy = r2_score(fold_ytest, pred)\n",
    "            acc.append(accuracy)\n",
    "            print(\"Fold: %s of % s | iter: %s => r2_score = %s\" %(count, k_folds, it, accuracy))\n",
    "    \n",
    "    print(\"\\nR2_score statistics:\")\n",
    "    print(\"Mean = %s%%\" % '{0:.5f}'.format(np.mean(acc)))\n",
    "    print(\"STD = %s%%\" % '{0:.5f}'.format(np.std(acc)))"
   ]
  },
  {
   "cell_type": "code",
   "execution_count": 4,
   "metadata": {
    "collapsed": true
   },
   "outputs": [],
   "source": [
    "# https://www.kaggle.com/eikedehling/stack-of-svm-elasticnet-xgboost-rf-0-55\n",
    "class Ensemble(object):\n",
    "    def __init__(self, n_splits, stacker, base_models):\n",
    "        self.n_splits = n_splits\n",
    "        self.stacker = stacker\n",
    "        self.base_models = base_models\n",
    "\n",
    "    def fit_predict(self, X, y, T):\n",
    "        X = np.array(X)\n",
    "        y = np.array(y).ravel()\n",
    "        T = np.array(T)\n",
    "\n",
    "        folds = list(KFold(n_splits=self.n_splits, shuffle=True, random_state=420).split(X, y))\n",
    "\n",
    "        S_train = np.zeros((X.shape[0], len(self.base_models)))\n",
    "        S_test = np.zeros((T.shape[0], len(self.base_models)))\n",
    "        acc = []\n",
    "        for i, clf in enumerate(self.base_models):\n",
    "\n",
    "            S_test_i = np.zeros((T.shape[0], self.n_splits))\n",
    "\n",
    "            for j, (train_idx, test_idx) in enumerate(folds):\n",
    "                X_train = X[train_idx]\n",
    "                y_train = y[train_idx]\n",
    "                X_holdout = X[test_idx]\n",
    "                    \n",
    "                y_holdout = y[test_idx]\n",
    "\n",
    "                clf.fit(X_train, y_train)\n",
    "                y_pred = clf.predict(X_holdout)[:]\n",
    "                accuracy = r2_score(y_holdout, y_pred)\n",
    "                print (\"Model %d fold %d score %f\" % (i, j, accuracy))\n",
    "                acc.append(accuracy)\n",
    "\n",
    "                S_train[test_idx, i] = y_pred\n",
    "                S_test_i[:, j] = clf.predict(T)[:]\n",
    "            S_test[:, i] = S_test_i.mean(axis=1)\n",
    "        \n",
    "        print(\"\\nR2_score statistics for Models:\")\n",
    "        print(\"Mean = %s%%\" % '{0:.5f}'.format(np.mean(acc)))\n",
    "        print(\"STD = %s%%\" % '{0:.5f}'.format(np.std(acc)))\n",
    "        print(\"\\nStarting kFold for stacked models\")\n",
    "        kfold_validate(self.stacker, S_train, y)\n",
    "        \n",
    "        # Train on all data\n",
    "        self.stacker.fit(S_train, y)\n",
    "        res = self.stacker.predict(S_test)[:]\n",
    "        return res"
   ]
  },
  {
   "cell_type": "code",
   "execution_count": 5,
   "metadata": {
    "collapsed": true
   },
   "outputs": [],
   "source": [
    "# Test validation helper\n",
    "def lb_probing(pred):\n",
    "    probing = pd.read_csv('data/lb_probing.csv')\n",
    "    values = []\n",
    "    for idp in probing.id:\n",
    "        values.append(pred.y[pred.ID == idp].values[0])\n",
    "    print('lb probing score = %s' % r2_score(probing.y, np.array(values)))"
   ]
  },
  {
   "cell_type": "code",
   "execution_count": 6,
   "metadata": {
    "collapsed": true
   },
   "outputs": [],
   "source": [
    "df_train = pd.read_csv('data/train.csv')\n",
    "df_test = pd.read_csv('data/test.csv')"
   ]
  },
  {
   "cell_type": "code",
   "execution_count": 7,
   "metadata": {
    "collapsed": false
   },
   "outputs": [
    {
     "name": "stderr",
     "output_type": "stream",
     "text": [
      "/home/hguimaraes/.virtualenvs/kaggle/lib/python3.6/site-packages/ipykernel_launcher.py:6: SettingWithCopyWarning: \n",
      "A value is trying to be set on a copy of a slice from a DataFrame.\n",
      "Try using .loc[row_indexer,col_indexer] = value instead\n",
      "\n",
      "See the caveats in the documentation: http://pandas.pydata.org/pandas-docs/stable/indexing.html#indexing-view-versus-copy\n",
      "  \n"
     ]
    }
   ],
   "source": [
    "# Insert probed data\n",
    "probing = pd.read_csv('data/lb_probing.csv')\n",
    "\n",
    "for idp in probing.id:\n",
    "    n_row = df_test[df_test.ID == idp]\n",
    "    n_row['y'] = list(probing[probing.id == idp]['y'])\n",
    "    df_train = pd.concat([df_train, n_row], axis=0)"
   ]
  },
  {
   "cell_type": "code",
   "execution_count": 8,
   "metadata": {
    "collapsed": true
   },
   "outputs": [],
   "source": [
    "# Get the mean for y across repeated rows\n",
    "filter_col = list(df_train.columns)\n",
    "filter_col.remove('ID')\n",
    "filter_col.remove('y')\n",
    "repeated = df_train[df_train.duplicated(subset=filter_col, keep=False)]\n",
    "mean_repeated = repeated.groupby(filter_col, as_index=False).mean()"
   ]
  },
  {
   "cell_type": "code",
   "execution_count": 9,
   "metadata": {
    "collapsed": false
   },
   "outputs": [
    {
     "name": "stdout",
     "output_type": "stream",
     "text": [
      "(4241, 378)\n",
      "(3720, 378)\n",
      "(3939, 378)\n"
     ]
    }
   ],
   "source": [
    "# Remove repeated rows\n",
    "print(df_train.shape)\n",
    "filter_col = list(df_train.columns)\n",
    "filter_col.remove('ID')\n",
    "filter_col.remove('y')\n",
    "df_train.drop_duplicates(subset=filter_col, keep=False, inplace=True)\n",
    "print(df_train.shape)\n",
    "\n",
    "# Merge with filtered rows\n",
    "df_train = pd.concat([df_train, mean_repeated], axis=0)\n",
    "print(df_train.shape)"
   ]
  },
  {
   "cell_type": "code",
   "execution_count": 10,
   "metadata": {
    "collapsed": false
   },
   "outputs": [
    {
     "name": "stderr",
     "output_type": "stream",
     "text": [
      "/home/hguimaraes/.virtualenvs/kaggle/lib/python3.6/site-packages/ipykernel_launcher.py:10: SettingWithCopyWarning: \n",
      "A value is trying to be set on a copy of a slice from a DataFrame\n",
      "\n",
      "See the caveats in the documentation: http://pandas.pydata.org/pandas-docs/stable/indexing.html#indexing-view-versus-copy\n",
      "  # Remove the CWD from sys.path while we load stuff.\n",
      "/home/hguimaraes/.virtualenvs/kaggle/lib/python3.6/site-packages/ipykernel_launcher.py:11: SettingWithCopyWarning: \n",
      "A value is trying to be set on a copy of a slice from a DataFrame\n",
      "\n",
      "See the caveats in the documentation: http://pandas.pydata.org/pandas-docs/stable/indexing.html#indexing-view-versus-copy\n",
      "  # This is added back by InteractiveShellApp.init_path()\n"
     ]
    }
   ],
   "source": [
    "# Magic feature from Cro-Magnon\n",
    "uniquex0 = list(df_train['X0'].unique())\n",
    "dict_meanx0 = {}\n",
    "df_train['meanx0'] = df_train.y\n",
    "df_test['meanx0'] = np.repeat(np.mean(df_train.y), len(df_test))\n",
    "\n",
    "for x in uniquex0:\n",
    "    meanx0 = np.mean(df_train['y'][df_train['X0'] == x])\n",
    "    dict_meanx0[x] = meanx0\n",
    "    df_train['meanx0'][df_train['X0'] == x] = meanx0\n",
    "    df_test['meanx0'][df_test['X0'] == x] = meanx0"
   ]
  },
  {
   "cell_type": "code",
   "execution_count": 11,
   "metadata": {
    "collapsed": false
   },
   "outputs": [
    {
     "name": "stdout",
     "output_type": "stream",
     "text": [
      "(3939, 367)\n"
     ]
    }
   ],
   "source": [
    "# Remove y outlier\n",
    "#df_train = df_train[df_train.y < 170]\n",
    "#print(df_train.shape)\n",
    "\n",
    "# Remove columns with 0 variance in train\n",
    "desc = df_train.describe().transpose()\n",
    "zerovar = list(desc[desc['std'] == 0].transpose().keys())\n",
    "df_train = df_train.drop(zerovar, axis=1)\n",
    "df_test = df_test.drop(zerovar, axis=1)\n",
    "print(df_train.shape)"
   ]
  },
  {
   "cell_type": "code",
   "execution_count": 12,
   "metadata": {
    "collapsed": false
   },
   "outputs": [
    {
     "name": "stdout",
     "output_type": "stream",
     "text": [
      "(8148, 367)\n"
     ]
    }
   ],
   "source": [
    "# group train and test\n",
    "num_train = len(df_train)\n",
    "df_all = pd.concat([df_train, df_test], axis=0)\n",
    "print(df_all.shape)"
   ]
  },
  {
   "cell_type": "code",
   "execution_count": 13,
   "metadata": {
    "collapsed": true
   },
   "outputs": [],
   "source": [
    "del df_train\n",
    "del df_test"
   ]
  },
  {
   "cell_type": "code",
   "execution_count": 14,
   "metadata": {
    "collapsed": true
   },
   "outputs": [],
   "source": [
    "# Get the object features\n",
    "obj_features = []\n",
    "int_features = []\n",
    "for c in df_all.columns:\n",
    "    if df_all[c].dtype == 'object':\n",
    "        obj_features.append(c)\n",
    "    else:\n",
    "        int_features.append(c)"
   ]
  },
  {
   "cell_type": "code",
   "execution_count": 15,
   "metadata": {
    "collapsed": true
   },
   "outputs": [],
   "source": [
    "# Label encoder\n",
    "for c in df_all.columns:\n",
    "    if df_all[c].dtype == 'object':\n",
    "        lbl = LabelEncoder()\n",
    "        lbl.fit(list(df_all[c].values))\n",
    "        df_all[c] = lbl.transform(list(df_all[c].values))\n",
    "\n",
    "df_train = df_all[:num_train]\n",
    "df_test = df_all[num_train:].drop(['y'], axis=1)"
   ]
  },
  {
   "cell_type": "code",
   "execution_count": 16,
   "metadata": {
    "collapsed": false
   },
   "outputs": [
    {
     "name": "stderr",
     "output_type": "stream",
     "text": [
      "/home/hguimaraes/.virtualenvs/kaggle/lib/python3.6/site-packages/ipykernel_launcher.py:32: SettingWithCopyWarning: \n",
      "A value is trying to be set on a copy of a slice from a DataFrame.\n",
      "Try using .loc[row_indexer,col_indexer] = value instead\n",
      "\n",
      "See the caveats in the documentation: http://pandas.pydata.org/pandas-docs/stable/indexing.html#indexing-view-versus-copy\n",
      "/home/hguimaraes/.virtualenvs/kaggle/lib/python3.6/site-packages/ipykernel_launcher.py:35: SettingWithCopyWarning: \n",
      "A value is trying to be set on a copy of a slice from a DataFrame.\n",
      "Try using .loc[row_indexer,col_indexer] = value instead\n",
      "\n",
      "See the caveats in the documentation: http://pandas.pydata.org/pandas-docs/stable/indexing.html#indexing-view-versus-copy\n",
      "/home/hguimaraes/.virtualenvs/kaggle/lib/python3.6/site-packages/ipykernel_launcher.py:38: SettingWithCopyWarning: \n",
      "A value is trying to be set on a copy of a slice from a DataFrame.\n",
      "Try using .loc[row_indexer,col_indexer] = value instead\n",
      "\n",
      "See the caveats in the documentation: http://pandas.pydata.org/pandas-docs/stable/indexing.html#indexing-view-versus-copy\n",
      "/home/hguimaraes/.virtualenvs/kaggle/lib/python3.6/site-packages/ipykernel_launcher.py:41: SettingWithCopyWarning: \n",
      "A value is trying to be set on a copy of a slice from a DataFrame.\n",
      "Try using .loc[row_indexer,col_indexer] = value instead\n",
      "\n",
      "See the caveats in the documentation: http://pandas.pydata.org/pandas-docs/stable/indexing.html#indexing-view-versus-copy\n",
      "/home/hguimaraes/.virtualenvs/kaggle/lib/python3.6/site-packages/ipykernel_launcher.py:44: SettingWithCopyWarning: \n",
      "A value is trying to be set on a copy of a slice from a DataFrame.\n",
      "Try using .loc[row_indexer,col_indexer] = value instead\n",
      "\n",
      "See the caveats in the documentation: http://pandas.pydata.org/pandas-docs/stable/indexing.html#indexing-view-versus-copy\n"
     ]
    }
   ],
   "source": [
    "# Insert PCA/ICA/tSVD/GRP/SRP\n",
    "n_comp = 12\n",
    "rstate = 420\n",
    "\n",
    "# tSVD\n",
    "tsvd = TruncatedSVD(n_components=n_comp, random_state=rstate)\n",
    "tsvd_results_train = tsvd.fit_transform(df_train.drop([\"y\"], axis=1))\n",
    "tsvd_results_test = tsvd.transform(df_test)\n",
    "\n",
    "# PCA\n",
    "pca = PCA(n_components=n_comp, random_state=rstate)\n",
    "pca2_results_train = pca.fit_transform(df_train.drop([\"y\"], axis=1))\n",
    "pca2_results_test = pca.transform(df_test)\n",
    "\n",
    "# ICA\n",
    "ica = FastICA(n_components=n_comp, random_state=rstate)\n",
    "ica2_results_train = ica.fit_transform(df_train.drop([\"y\"], axis=1))\n",
    "ica2_results_test = ica.transform(df_test)\n",
    "\n",
    "# GRP\n",
    "grp = GaussianRandomProjection(n_components=n_comp, eps=0.1, random_state=rstate)\n",
    "grp_results_train = grp.fit_transform(df_train.drop([\"y\"], axis=1))\n",
    "grp_results_test = grp.transform(df_test)\n",
    "\n",
    "# SRP\n",
    "srp = SparseRandomProjection(n_components=n_comp, dense_output=True, random_state=rstate)\n",
    "srp_results_train = srp.fit_transform(df_train.drop([\"y\"], axis=1))\n",
    "srp_results_test = srp.transform(df_test)\n",
    "\n",
    "# Append decomposition components to datasets\n",
    "for i in range(1, n_comp+1):\n",
    "    df_train['pca_' + str(i)] = pca2_results_train[:,i-1]\n",
    "    df_test['pca_' + str(i)] = pca2_results_test[:, i-1]\n",
    "    \n",
    "    df_train['ica_' + str(i)] = ica2_results_train[:,i-1]\n",
    "    df_test['ica_' + str(i)] = ica2_results_test[:, i-1]\n",
    "\n",
    "    df_train['tsvd_' + str(i)] = tsvd_results_train[:,i-1]\n",
    "    df_test['tsvd_' + str(i)] = tsvd_results_test[:, i-1]\n",
    "    \n",
    "    df_train['grp_' + str(i)] = grp_results_train[:,i-1]\n",
    "    df_test['grp_' + str(i)] = grp_results_test[:, i-1]\n",
    "    \n",
    "    df_train['srp_' + str(i)] = srp_results_train[:,i-1]\n",
    "    df_test['srp_' + str(i)] = srp_results_test[:, i-1]"
   ]
  },
  {
   "cell_type": "code",
   "execution_count": 17,
   "metadata": {
    "collapsed": true
   },
   "outputs": [],
   "source": [
    "x_train = df_train.drop(['ID', 'y'], axis=1).as_matrix()\n",
    "y_train = df_train.filter('y').as_matrix()\n",
    "x_test = df_test.drop(['ID'], axis=1).as_matrix()\n",
    "id_test = df_test['ID'].apply(int)"
   ]
  },
  {
   "cell_type": "code",
   "execution_count": 18,
   "metadata": {
    "collapsed": false
   },
   "outputs": [
    {
     "name": "stdout",
     "output_type": "stream",
     "text": [
      "Fold: 1 of 5 | iter: 0 => r2_score = 0.594437661011\n",
      "Fold: 2 of 5 | iter: 0 => r2_score = 0.605623625926\n",
      "Fold: 3 of 5 | iter: 0 => r2_score = 0.61134325288\n",
      "Fold: 4 of 5 | iter: 0 => r2_score = 0.427625708461\n",
      "Fold: 5 of 5 | iter: 0 => r2_score = 0.56992572574\n",
      "Fold: 1 of 5 | iter: 1 => r2_score = 0.56647830996\n",
      "Fold: 2 of 5 | iter: 1 => r2_score = 0.59951911192\n",
      "Fold: 3 of 5 | iter: 1 => r2_score = 0.56801595912\n",
      "Fold: 4 of 5 | iter: 1 => r2_score = 0.477892400675\n",
      "Fold: 5 of 5 | iter: 1 => r2_score = 0.614418919698\n",
      "Fold: 1 of 5 | iter: 2 => r2_score = 0.466636893721\n",
      "Fold: 2 of 5 | iter: 2 => r2_score = 0.57475744934\n",
      "Fold: 3 of 5 | iter: 2 => r2_score = 0.642564744861\n",
      "Fold: 4 of 5 | iter: 2 => r2_score = 0.601846932282\n",
      "Fold: 5 of 5 | iter: 2 => r2_score = 0.546386240523\n",
      "Fold: 1 of 5 | iter: 3 => r2_score = 0.572963398528\n",
      "Fold: 2 of 5 | iter: 3 => r2_score = 0.637794243616\n",
      "Fold: 3 of 5 | iter: 3 => r2_score = 0.55470900886\n",
      "Fold: 4 of 5 | iter: 3 => r2_score = 0.506570561497\n",
      "Fold: 5 of 5 | iter: 3 => r2_score = 0.570577892169\n",
      "Fold: 1 of 5 | iter: 4 => r2_score = 0.581521988675\n",
      "Fold: 2 of 5 | iter: 4 => r2_score = 0.623708148648\n",
      "Fold: 3 of 5 | iter: 4 => r2_score = 0.605679755463\n",
      "Fold: 4 of 5 | iter: 4 => r2_score = 0.47142962176\n",
      "Fold: 5 of 5 | iter: 4 => r2_score = 0.557385202062\n",
      "\n",
      "R2_score statistics:\n",
      "Mean = 0.56599%\n",
      "STD = 0.05490%\n",
      "lb probing score = 0.799536649024\n"
     ]
    }
   ],
   "source": [
    "# XGBoost\n",
    "xgb_params = {\n",
    "    'learning_rate': 0.01,\n",
    "    'n_estimators': 2000,\n",
    "    'max_depth':3,\n",
    "    'subsample': 1,\n",
    "    'colsample_bytree':0.5,\n",
    "    'reg_alpha':0.5,\n",
    "    'reg_lambda':0.5\n",
    "}\n",
    "\n",
    "xgb_clf = xgb.XGBRegressor(**xgb_params)\n",
    "kfold_validate(xgb_clf, x_train, y_train)\n",
    "\n",
    "# Fit in all data and use on test\n",
    "xgb_clf.fit(x_train, y_train)\n",
    "pred_xgb = xgb_clf.predict(x_test)\n",
    "result = pd.DataFrame({'ID': id_test, 'y': pred_xgb})\n",
    "\n",
    "lb_probing(result)"
   ]
  },
  {
   "cell_type": "code",
   "execution_count": 19,
   "metadata": {
    "collapsed": false
   },
   "outputs": [
    {
     "name": "stdout",
     "output_type": "stream",
     "text": [
      "Fold: 1 of 5 | iter: 0 => r2_score = 0.550573155865\n",
      "Fold: 2 of 5 | iter: 0 => r2_score = 0.579084048823\n",
      "Fold: 3 of 5 | iter: 0 => r2_score = 0.55632780785\n",
      "Fold: 4 of 5 | iter: 0 => r2_score = 0.441539996482\n",
      "Fold: 5 of 5 | iter: 0 => r2_score = 0.555697415821\n",
      "Fold: 1 of 5 | iter: 1 => r2_score = 0.521310789633\n",
      "Fold: 2 of 5 | iter: 1 => r2_score = 0.58309477478\n",
      "Fold: 3 of 5 | iter: 1 => r2_score = 0.536598545498\n",
      "Fold: 4 of 5 | iter: 1 => r2_score = 0.455628773711\n",
      "Fold: 5 of 5 | iter: 1 => r2_score = 0.538301498614\n",
      "Fold: 1 of 5 | iter: 2 => r2_score = 0.459418685414\n",
      "Fold: 2 of 5 | iter: 2 => r2_score = 0.518987287198\n",
      "Fold: 3 of 5 | iter: 2 => r2_score = 0.596795201914\n",
      "Fold: 4 of 5 | iter: 2 => r2_score = 0.575626962025\n",
      "Fold: 5 of 5 | iter: 2 => r2_score = 0.496385641613\n",
      "Fold: 1 of 5 | iter: 3 => r2_score = 0.544170753711\n",
      "Fold: 2 of 5 | iter: 3 => r2_score = 0.600708825195\n",
      "Fold: 3 of 5 | iter: 3 => r2_score = 0.492672583627\n",
      "Fold: 4 of 5 | iter: 3 => r2_score = 0.462890959554\n",
      "Fold: 5 of 5 | iter: 3 => r2_score = 0.532009902868\n",
      "Fold: 1 of 5 | iter: 4 => r2_score = 0.5286241213\n",
      "Fold: 2 of 5 | iter: 4 => r2_score = 0.600503808651\n",
      "Fold: 3 of 5 | iter: 4 => r2_score = 0.589512463798\n",
      "Fold: 4 of 5 | iter: 4 => r2_score = 0.465538373036\n",
      "Fold: 5 of 5 | iter: 4 => r2_score = 0.521599469186\n",
      "\n",
      "R2_score statistics:\n",
      "Mean = 0.53214%\n",
      "STD = 0.04777%\n",
      "lb probing score = 0.909714049939\n"
     ]
    }
   ],
   "source": [
    "# RandomForest\n",
    "rf_params = {\n",
    "    'n_estimators': 200,\n",
    "    'n_jobs': -1\n",
    "}\n",
    "\n",
    "rf_clf = RandomForestRegressor(**rf_params)\n",
    "kfold_validate(rf_clf, x_train, y_train.ravel())\n",
    "\n",
    "# Fit in all data and use on test\n",
    "rf_clf.fit(x_train, y_train.ravel())\n",
    "pred_rf = rf_clf.predict(x_test)\n",
    "result = pd.DataFrame({'ID': id_test, 'y': pred_rf})\n",
    "\n",
    "lb_probing(result)"
   ]
  },
  {
   "cell_type": "code",
   "execution_count": 20,
   "metadata": {
    "collapsed": false
   },
   "outputs": [
    {
     "name": "stdout",
     "output_type": "stream",
     "text": [
      "Fold: 1 of 5 | iter: 0 => r2_score = 0.609448641918\n",
      "Fold: 2 of 5 | iter: 0 => r2_score = 0.622929795048\n",
      "Fold: 3 of 5 | iter: 0 => r2_score = 0.651448715867\n",
      "Fold: 4 of 5 | iter: 0 => r2_score = 0.437819334988\n",
      "Fold: 5 of 5 | iter: 0 => r2_score = 0.581308449489\n",
      "Fold: 1 of 5 | iter: 1 => r2_score = 0.570727233685\n",
      "Fold: 2 of 5 | iter: 1 => r2_score = 0.607540783572\n",
      "Fold: 3 of 5 | iter: 1 => r2_score = 0.581886587623\n",
      "Fold: 4 of 5 | iter: 1 => r2_score = 0.492140927373\n",
      "Fold: 5 of 5 | iter: 1 => r2_score = 0.629790104207\n",
      "Fold: 1 of 5 | iter: 2 => r2_score = 0.471711563798\n",
      "Fold: 2 of 5 | iter: 2 => r2_score = 0.586805989708\n",
      "Fold: 3 of 5 | iter: 2 => r2_score = 0.654805066067\n",
      "Fold: 4 of 5 | iter: 2 => r2_score = 0.606983670013\n",
      "Fold: 5 of 5 | iter: 2 => r2_score = 0.56777269049\n",
      "Fold: 1 of 5 | iter: 3 => r2_score = 0.582219452361\n",
      "Fold: 2 of 5 | iter: 3 => r2_score = 0.650541051933\n",
      "Fold: 3 of 5 | iter: 3 => r2_score = 0.565735560383\n",
      "Fold: 4 of 5 | iter: 3 => r2_score = 0.516645470793\n",
      "Fold: 5 of 5 | iter: 3 => r2_score = 0.580307132946\n",
      "Fold: 1 of 5 | iter: 4 => r2_score = 0.591570551673\n",
      "Fold: 2 of 5 | iter: 4 => r2_score = 0.63212403806\n",
      "Fold: 3 of 5 | iter: 4 => r2_score = 0.620661701995\n",
      "Fold: 4 of 5 | iter: 4 => r2_score = 0.483070557422\n",
      "Fold: 5 of 5 | iter: 4 => r2_score = 0.570198674513\n",
      "\n",
      "R2_score statistics:\n",
      "Mean = 0.57865%\n",
      "STD = 0.05674%\n",
      "lb probing score = 0.533147277282\n"
     ]
    }
   ],
   "source": [
    "# Ridge\n",
    "ridge_params = {\n",
    "    'alpha': 100,\n",
    "    'normalize':False,\n",
    "    'solver':'auto'\n",
    "}\n",
    "\n",
    "ridge_clf = Ridge(**ridge_params)\n",
    "kfold_validate(ridge_clf, x_train, y_train.ravel())\n",
    "\n",
    "# Fit in all data and use on test\n",
    "ridge_clf.fit(x_train, y_train.ravel())\n",
    "pred = ridge_clf.predict(x_test)\n",
    "result = pd.DataFrame({'ID': id_test, 'y': pred})\n",
    "lb_probing(result)"
   ]
  },
  {
   "cell_type": "code",
   "execution_count": 21,
   "metadata": {
    "collapsed": false
   },
   "outputs": [
    {
     "name": "stdout",
     "output_type": "stream",
     "text": [
      "Model 0 fold 0 score 0.594438\n",
      "Model 0 fold 1 score 0.605624\n",
      "Model 0 fold 2 score 0.611343\n",
      "Model 0 fold 3 score 0.427626\n",
      "Model 0 fold 4 score 0.569926\n",
      "Model 1 fold 0 score 0.609449\n",
      "Model 1 fold 1 score 0.622930\n",
      "Model 1 fold 2 score 0.651449\n",
      "Model 1 fold 3 score 0.437819\n",
      "Model 1 fold 4 score 0.581308\n",
      "Model 2 fold 0 score 0.545980\n",
      "Model 2 fold 1 score 0.585385\n",
      "Model 2 fold 2 score 0.560410\n",
      "Model 2 fold 3 score 0.434529\n",
      "Model 2 fold 4 score 0.561122\n",
      "\n",
      "R2_score statistics for Models:\n",
      "Mean = 0.55996%\n",
      "STD = 0.06844%\n",
      "\n",
      "Starting kFold for stacked models\n",
      "Fold: 1 of 5 | iter: 0 => r2_score = 0.608411800466\n",
      "Fold: 2 of 5 | iter: 0 => r2_score = 0.629022694318\n",
      "Fold: 3 of 5 | iter: 0 => r2_score = 0.644581919768\n",
      "Fold: 4 of 5 | iter: 0 => r2_score = 0.444911903254\n",
      "Fold: 5 of 5 | iter: 0 => r2_score = 0.585462363659\n",
      "Fold: 1 of 5 | iter: 1 => r2_score = 0.587909900804\n",
      "Fold: 2 of 5 | iter: 1 => r2_score = 0.610606010052\n",
      "Fold: 3 of 5 | iter: 1 => r2_score = 0.583581368679\n",
      "Fold: 4 of 5 | iter: 1 => r2_score = 0.491100173324\n",
      "Fold: 5 of 5 | iter: 1 => r2_score = 0.626511322884\n",
      "Fold: 1 of 5 | iter: 2 => r2_score = 0.475205302988\n",
      "Fold: 2 of 5 | iter: 2 => r2_score = 0.593723040542\n",
      "Fold: 3 of 5 | iter: 2 => r2_score = 0.654842140891\n",
      "Fold: 4 of 5 | iter: 2 => r2_score = 0.611011469315\n",
      "Fold: 5 of 5 | iter: 2 => r2_score = 0.571067597589\n",
      "Fold: 1 of 5 | iter: 3 => r2_score = 0.587925906595\n",
      "Fold: 2 of 5 | iter: 3 => r2_score = 0.649302375229\n",
      "Fold: 3 of 5 | iter: 3 => r2_score = 0.568502440545\n",
      "Fold: 4 of 5 | iter: 3 => r2_score = 0.521897936548\n",
      "Fold: 5 of 5 | iter: 3 => r2_score = 0.578084672769\n",
      "Fold: 1 of 5 | iter: 4 => r2_score = 0.599582904944\n",
      "Fold: 2 of 5 | iter: 4 => r2_score = 0.633118717505\n",
      "Fold: 3 of 5 | iter: 4 => r2_score = 0.625093619798\n",
      "Fold: 4 of 5 | iter: 4 => r2_score = 0.483084387719\n",
      "Fold: 5 of 5 | iter: 4 => r2_score = 0.576991202332\n",
      "\n",
      "R2_score statistics:\n",
      "Mean = 0.58166%\n",
      "STD = 0.05568%\n"
     ]
    },
    {
     "data": {
      "text/html": [
       "<div>\n",
       "<style>\n",
       "    .dataframe thead tr:only-child th {\n",
       "        text-align: right;\n",
       "    }\n",
       "\n",
       "    .dataframe thead th {\n",
       "        text-align: left;\n",
       "    }\n",
       "\n",
       "    .dataframe tbody tr th {\n",
       "        vertical-align: top;\n",
       "    }\n",
       "</style>\n",
       "<table border=\"1\" class=\"dataframe\">\n",
       "  <thead>\n",
       "    <tr style=\"text-align: right;\">\n",
       "      <th></th>\n",
       "      <th>ID</th>\n",
       "      <th>y</th>\n",
       "    </tr>\n",
       "  </thead>\n",
       "  <tbody>\n",
       "    <tr>\n",
       "      <th>0</th>\n",
       "      <td>1</td>\n",
       "      <td>78.668003</td>\n",
       "    </tr>\n",
       "    <tr>\n",
       "      <th>1</th>\n",
       "      <td>2</td>\n",
       "      <td>96.120871</td>\n",
       "    </tr>\n",
       "    <tr>\n",
       "      <th>2</th>\n",
       "      <td>3</td>\n",
       "      <td>80.110741</td>\n",
       "    </tr>\n",
       "    <tr>\n",
       "      <th>3</th>\n",
       "      <td>4</td>\n",
       "      <td>79.371810</td>\n",
       "    </tr>\n",
       "    <tr>\n",
       "      <th>4</th>\n",
       "      <td>5</td>\n",
       "      <td>116.591175</td>\n",
       "    </tr>\n",
       "  </tbody>\n",
       "</table>\n",
       "</div>"
      ],
      "text/plain": [
       "   ID           y\n",
       "0   1   78.668003\n",
       "1   2   96.120871\n",
       "2   3   80.110741\n",
       "3   4   79.371810\n",
       "4   5  116.591175"
      ]
     },
     "execution_count": 21,
     "metadata": {},
     "output_type": "execute_result"
    }
   ],
   "source": [
    "stack = Ensemble(n_splits=5,\n",
    "                 stacker=ElasticNet(l1_ratio=0.1, alpha=1.4),\n",
    "                 base_models=(xgb_clf, ridge_clf, rf_clf))\n",
    "\n",
    "pred = stack.fit_predict(x_train, y_train, x_test)\n",
    "\n",
    "sub = pd.DataFrame({'ID': id_test, 'y': pred})\n",
    "sub.head()"
   ]
  },
  {
   "cell_type": "code",
   "execution_count": 22,
   "metadata": {
    "collapsed": false
   },
   "outputs": [
    {
     "name": "stdout",
     "output_type": "stream",
     "text": [
      "lb probing score = 0.701796264916\n"
     ]
    }
   ],
   "source": [
    "lb_probing(sub)"
   ]
  },
  {
   "cell_type": "code",
   "execution_count": 25,
   "metadata": {
    "collapsed": true
   },
   "outputs": [],
   "source": [
    "final_result = pd.DataFrame({'ID': id_test, 'y': .5*pred + .2*pred_rf + .3*pred_xgb})\n",
    "final_result.to_csv('ensembleHguimaresProbAveraged.csv', index=False)"
   ]
  },
  {
   "cell_type": "code",
   "execution_count": 26,
   "metadata": {
    "collapsed": false
   },
   "outputs": [
    {
     "name": "stdout",
     "output_type": "stream",
     "text": [
      "lb probing score = 0.817777531276\n"
     ]
    }
   ],
   "source": [
    "lb_probing(final_result)"
   ]
  },
  {
   "cell_type": "code",
   "execution_count": null,
   "metadata": {
    "collapsed": true
   },
   "outputs": [],
   "source": []
  }
 ],
 "metadata": {
  "kernelspec": {
   "display_name": "kaggle",
   "language": "python",
   "name": "kaggle"
  },
  "language_info": {
   "codemirror_mode": {
    "name": "ipython",
    "version": 3
   },
   "file_extension": ".py",
   "mimetype": "text/x-python",
   "name": "python",
   "nbconvert_exporter": "python",
   "pygments_lexer": "ipython3",
   "version": "3.6.0"
  }
 },
 "nbformat": 4,
 "nbformat_minor": 2
}
